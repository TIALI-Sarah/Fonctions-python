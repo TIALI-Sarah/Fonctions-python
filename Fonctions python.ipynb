{
 "cells": [
  {
   "cell_type": "code",
   "execution_count": null,
   "id": "0126f843",
   "metadata": {},
   "outputs": [],
   "source": []
  },
  {
   "cell_type": "code",
   "execution_count": 9,
   "id": "6c308536",
   "metadata": {},
   "outputs": [
    {
     "name": "stdout",
     "output_type": "stream",
     "text": [
      "entrer nombre 1 :4\n",
      "entrer nombre 2 :5\n",
      "entrer un opérateur (+, -, *, /)+\n",
      "9.0\n"
     ]
    },
    {
     "data": {
      "text/plain": [
       "'0x2b8e0b986b0'"
      ]
     },
     "execution_count": 9,
     "metadata": {},
     "output_type": "execute_result"
    }
   ],
   "source": [
    "def calculatrice(num1,num2):\n",
    "    operateur=input('entrer un opérateur (+, -, *, /)')\n",
    "    if operateur=='+':\n",
    "        res=num1+num2\n",
    "    elif operateur=='-':\n",
    "        res=num1-num2\n",
    "    elif operateur=='/':\n",
    "        res=num1/num2\n",
    "    elif operateur=='*':\n",
    "        res=num1/num2\n",
    "    \n",
    "    return res\n",
    "\n",
    "num1=float(input('entrer nombre 1 :'))\n",
    "num2=float(input('entrer nombre 2 :'))\n",
    "resultat=calculatrice(num1,num2)\n",
    "print(resultat)\n",
    "hex(id(resultat))\n",
    "    \n",
    "       \n",
    "    \n",
    "    \n",
    "   "
   ]
  },
  {
   "cell_type": "markdown",
   "id": "ac7db1f7",
   "metadata": {},
   "source": [
    "##### "
   ]
  },
  {
   "cell_type": "code",
   "execution_count": null,
   "id": "e9115060",
   "metadata": {},
   "outputs": [],
   "source": []
  },
  {
   "cell_type": "code",
   "execution_count": null,
   "id": "a973bfa2",
   "metadata": {},
   "outputs": [],
   "source": []
  },
  {
   "cell_type": "code",
   "execution_count": null,
   "id": "63e9a134",
   "metadata": {},
   "outputs": [],
   "source": []
  },
  {
   "cell_type": "code",
   "execution_count": null,
   "id": "e78dc173",
   "metadata": {},
   "outputs": [],
   "source": []
  },
  {
   "cell_type": "code",
   "execution_count": null,
   "id": "26cd0a27",
   "metadata": {},
   "outputs": [],
   "source": []
  },
  {
   "cell_type": "code",
   "execution_count": null,
   "id": "4be766a2",
   "metadata": {},
   "outputs": [],
   "source": []
  },
  {
   "cell_type": "code",
   "execution_count": null,
   "id": "78638fb8",
   "metadata": {},
   "outputs": [],
   "source": []
  },
  {
   "cell_type": "code",
   "execution_count": null,
   "id": "f05c426c",
   "metadata": {},
   "outputs": [],
   "source": []
  },
  {
   "cell_type": "code",
   "execution_count": null,
   "id": "baef12fd",
   "metadata": {},
   "outputs": [],
   "source": []
  },
  {
   "cell_type": "code",
   "execution_count": null,
   "id": "92c65ed3",
   "metadata": {},
   "outputs": [],
   "source": []
  },
  {
   "cell_type": "code",
   "execution_count": 25,
   "id": "174f6dc0",
   "metadata": {},
   "outputs": [
    {
     "name": "stdout",
     "output_type": "stream",
     "text": [
      "entrer nombre 1 :5\n",
      "entrer nombre 2 :6\n",
      "entrer un opérateur (+, -, *, /)+\n",
      "('56',)\n"
     ]
    }
   ],
   "source": []
  },
  {
   "cell_type": "code",
   "execution_count": 36,
   "id": "a2264d4d",
   "metadata": {},
   "outputs": [
    {
     "name": "stdout",
     "output_type": "stream",
     "text": [
      "entrer nombre 1 :5\n",
      "entrer nombre 2 :9\n",
      "entrer un opérateur (+, -, *, /)+\n"
     ]
    },
    {
     "ename": "UnboundLocalError",
     "evalue": "cannot access local variable 'res' where it is not associated with a value",
     "output_type": "error",
     "traceback": [
      "\u001b[1;31m---------------------------------------------------------------------------\u001b[0m",
      "\u001b[1;31mUnboundLocalError\u001b[0m                         Traceback (most recent call last)",
      "Cell \u001b[1;32mIn[36], line 10\u001b[0m\n\u001b[0;32m      7\u001b[0m num1\u001b[38;5;241m=\u001b[39m\u001b[38;5;28minput\u001b[39m (\u001b[38;5;124m'\u001b[39m\u001b[38;5;124mentrer nombre 1 :\u001b[39m\u001b[38;5;124m'\u001b[39m)\n\u001b[0;32m      8\u001b[0m num2\u001b[38;5;241m=\u001b[39m\u001b[38;5;28minput\u001b[39m (\u001b[38;5;124m'\u001b[39m\u001b[38;5;124mentrer nombre 2 :\u001b[39m\u001b[38;5;124m'\u001b[39m)\n\u001b[1;32m---> 10\u001b[0m \u001b[38;5;28mprint\u001b[39m(calculatrice(num1,num2))\n",
      "Cell \u001b[1;32mIn[36], line 5\u001b[0m, in \u001b[0;36mcalculatrice\u001b[1;34m(num1, num2)\u001b[0m\n\u001b[0;32m      3\u001b[0m \u001b[38;5;28;01mif\u001b[39;00m operateur\u001b[38;5;241m==\u001b[39m\u001b[38;5;124m\"\u001b[39m\u001b[38;5;124m\"\u001b[39m\u001b[38;5;241m+\u001b[39m\u001b[38;5;124m\"\u001b[39m\u001b[38;5;124m\"\u001b[39m:\n\u001b[0;32m      4\u001b[0m     res\u001b[38;5;241m=\u001b[39mnum1\u001b[38;5;241m+\u001b[39mnum2\n\u001b[1;32m----> 5\u001b[0m \u001b[38;5;28;01mreturn\u001b[39;00m res\n",
      "\u001b[1;31mUnboundLocalError\u001b[0m: cannot access local variable 'res' where it is not associated with a value"
     ]
    }
   ],
   "source": [
    "def calculatrice(num1,num2):\n",
    "    operateur=input('entrer un opérateur (+, -, *, /)')\n",
    "    if operateur==\"\"+\"\":\n",
    "        res=num1+num2\n",
    "    elif operateur==\"\"-\"\":\n",
    "        res=num1-num2\n",
    "    elif operateur==\"\"/\"\":\n",
    "        res=num1/num2\n",
    "    elif operateur==\"\"*\"\":\n",
    "        res=num1/num2\n",
    "    \n",
    "    return res\n",
    "\n",
    "num1=input ('entrer nombre 1 :')\n",
    "num2=input ('entrer nombre 2 :')\n",
    "resultat= map(calculatrice,num1,num2)\n",
    "print(list(resultat))"
   ]
  },
  {
   "cell_type": "code",
   "execution_count": null,
   "id": "2da86324",
   "metadata": {},
   "outputs": [],
   "source": []
  }
 ],
 "metadata": {
  "kernelspec": {
   "display_name": "Python 3 (ipykernel)",
   "language": "python",
   "name": "python3"
  },
  "language_info": {
   "codemirror_mode": {
    "name": "ipython",
    "version": 3
   },
   "file_extension": ".py",
   "mimetype": "text/x-python",
   "name": "python",
   "nbconvert_exporter": "python",
   "pygments_lexer": "ipython3",
   "version": "3.11.5"
  }
 },
 "nbformat": 4,
 "nbformat_minor": 5
}
